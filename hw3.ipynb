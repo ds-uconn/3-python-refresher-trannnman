{
 "cells": [
  {
   "cell_type": "markdown",
   "metadata": {},
   "source": [
    "---\n",
    "title: \"Homework Assignment 2\"\n",
    "author: \"Justin Tran\"\n",
    "toc: true\n",
    "number-sections: true\n",
    "highlight-style: pygments\n",
    "format: \n",
    "  html: \n",
    "    code-fold: true\n",
    "    html-math-method: katex\n",
    "    embed-resources: true\n",
    "    self-contained-math: true\t\n",
    "  pdf: \n",
    "    geometry: \n",
    "      - top=30mm\n",
    "      - left=20mm\n",
    "##  docx: Never, unless to accommodate a collaborator\n",
    "---\n"
   ]
  },
  {
   "cell_type": "markdown",
   "metadata": {},
   "source": [
    "# Monty Hall Exercise"
   ]
  },
  {
   "cell_type": "markdown",
   "metadata": {},
   "source": [
    "## Write a function to simulate the experiment once. \n",
    "\n",
    "### The function takes two arguments ndoors and nempty, which represent the number of doors and the number of empty doors showed by the host, respectively, It returns the result of two strategies, switch and no-switch, from playing this game."
   ]
  },
  {
   "cell_type": "code",
   "execution_count": 31,
   "metadata": {},
   "outputs": [],
   "source": [
    "import random\n",
    "\n",
    "def simulate_montyhall (ndoors, nempty):\n",
    "    \"\"\"\n",
    "    ndoors = number of total doors\n",
    "    nempty = number of empty doors the host opens\n",
    "    Returns a tuple: (initial_win, switch_win)\n",
    "    \"\"\"\n",
    "\n",
    "    # This sets the doors with 1 prize and rest are empty\n",
    "    doors = ['prize'] + ['empty'] * (ndoors-1)\n",
    "    random.shuffle(doors)\n",
    "\n",
    "    # This is where a player picks a random door\n",
    "    pick = random.randint (0, ndoors -1)\n",
    "    \n",
    "    # This is where host opens \"nempty\" empty doors.\n",
    "    empty_doors = [i for i in range(ndoors) if doors[i] == \"empty\" and i!= pick]\n",
    "    opened_doors = random.sample(empty_doors, nempty)\n",
    "\n",
    "    # The remaining number of unopened doors.\n",
    "    remaining_doors = [i for i in range(ndoors) if i not in opened_doors and i != pick]\n",
    "\n",
    "    # No switching: Checking if prize is in initial door\n",
    "    initial_win = (doors[pick] == \"prize\")\n",
    "\n",
    "    # Switching: Checking if prize is in switched door.\n",
    "    switched_pick = random.choice(remaining_doors)\n",
    "    switch_win = (doors[switched_pick] == \"prize\")\n",
    "\n",
    "    return initial_win, switch_win"
   ]
  },
  {
   "cell_type": "markdown",
   "metadata": {},
   "source": [
    "## Play this game with 3 doors and 1 empty a few times."
   ]
  },
  {
   "cell_type": "code",
   "execution_count": 11,
   "metadata": {},
   "outputs": [
    {
     "name": "stdout",
     "output_type": "stream",
     "text": [
      "Monty Hall Game with 3 doors, 1 empty:\n",
      "(True, False)\n",
      "(True, False)\n",
      "(False, True)\n",
      "(True, False)\n",
      "(False, True)\n"
     ]
    }
   ],
   "source": [
    "print(\"Monty Hall Game with 3 doors, 1 empty:\")\n",
    "for __ in range(5):\n",
    "    print(simulate_montyhall(3,1))"
   ]
  },
  {
   "cell_type": "markdown",
   "metadata": {},
   "source": [
    "## Play this game with 10 doors and 8 empty a few times."
   ]
  },
  {
   "cell_type": "code",
   "execution_count": 14,
   "metadata": {},
   "outputs": [
    {
     "name": "stdout",
     "output_type": "stream",
     "text": [
      "Monty Hall Game with 10 doors, 8 empty:\n",
      "(False, True)\n",
      "(False, True)\n",
      "(False, True)\n",
      "(False, True)\n",
      "(False, True)\n",
      "(False, True)\n",
      "(True, False)\n"
     ]
    }
   ],
   "source": [
    "print(\"Monty Hall Game with 10 doors, 8 empty:\")\n",
    "for _ in range(7):\n",
    "    print(simulate_montyhall(10,8))"
   ]
  },
  {
   "cell_type": "markdown",
   "metadata": {},
   "source": [
    "## Write a function to demonstrate the Monty Hall problem through simulation. \n",
    "\n",
    "### The function takes three arguments ndoors, nempty, and ntrials, where ntrial is the number of trials in a simulation. The function should return the proportion of wins for both the switch and no-switch strategy."
   ]
  },
  {
   "cell_type": "code",
   "execution_count": 15,
   "metadata": {},
   "outputs": [],
   "source": [
    "def simulate_trials(ndoors, nempty, ntrials):\n",
    "    \"\"\"\n",
    "    ntrials = number of trials\n",
    "    The return gives the rate percentage if you kept the initial versus if switching.\n",
    "    \"\"\"\n",
    "    initial_wins = 0\n",
    "    switch_wins = 0\n",
    "\n",
    "    for _ in range(ntrials):\n",
    "        initial, switch = simulate_montyhall (ndoors, nempty)\n",
    "\n",
    "        # Adding a score if staying wins.\n",
    "        if initial:\n",
    "            initial_wins += 1\n",
    "\n",
    "        # Adding a score if switching wins.\n",
    "        if switch:\n",
    "            switch_wins += 1\n",
    "\n",
    "    # Turning into percentages.\n",
    "    initial_rate = initial_wins / ntrials\n",
    "    switch_rate = switch_wins / ntrials\n",
    "\n",
    "    return initial_rate, switch_rate\n"
   ]
  },
  {
   "cell_type": "markdown",
   "metadata": {},
   "source": [
    "## Apply your function with 3 doors (1 empty) and 10 doors (8 empty), both with 1000 trials. Summarize your results."
   ]
  },
  {
   "cell_type": "code",
   "execution_count": 26,
   "metadata": {},
   "outputs": [
    {
     "name": "stdout",
     "output_type": "stream",
     "text": [
      "The simulation of the Monty Hall Game with 1000 trials: 3 doors, 1 empty:\n"
     ]
    },
    {
     "data": {
      "text/plain": [
       "(0.325, 0.675)"
      ]
     },
     "execution_count": 26,
     "metadata": {},
     "output_type": "execute_result"
    }
   ],
   "source": [
    "print(\"The simulation of the Monty Hall Game with 1000 trials: 3 doors, 1 empty:\")\n",
    "\n",
    "run3 = simulate_trials(3,1,1000)\n",
    "run3"
   ]
  },
  {
   "cell_type": "code",
   "execution_count": 30,
   "metadata": {},
   "outputs": [
    {
     "name": "stdout",
     "output_type": "stream",
     "text": [
      "The simulation of the Monty Hall Game with 1000 trials: 10 doors, 8 empty:\n"
     ]
    },
    {
     "data": {
      "text/plain": [
       "(0.089, 0.911)"
      ]
     },
     "execution_count": 30,
     "metadata": {},
     "output_type": "execute_result"
    }
   ],
   "source": [
    "print(\"The simulation of the Monty Hall Game with 1000 trials: 10 doors, 8 empty:\")\n",
    "\n",
    "run10 = simulate_trials(10,8,1000)\n",
    "run10"
   ]
  },
  {
   "cell_type": "markdown",
   "metadata": {},
   "source": [
    "Choosing a winning door is 1/n, and switching usually needs to (n-1)/n. "
   ]
  },
  {
   "cell_type": "markdown",
   "metadata": {},
   "source": [
    "## Explain in words which strategy is preferred. Use analytic results to help if you could derive them."
   ]
  },
  {
   "cell_type": "markdown",
   "metadata": {},
   "source": [
    "By staying, the only way to win if if your first pick was correct. No matter how many doors, it is still 1/n chances of picking the prize door. By switching, your first pick was incorrect and you switch to the correct prize. The more doors that you add, the higher probability you win if you switch. Since you already have an empty one, the host must open every other door but the prize door. With 3 doors, its a 1/3 and 2/3 probability. For 10 doors and opening 8, the probability increases to 1/10 and 9/10. Even if you keep adding more doors, there is a higher chance that you pick the wrong door, so when the hosts leaves only 2 doors left,1 which must be the prize, it nearly guarantees you to switch to win. The only chance by switching do you lose is when you already have the prize one, which is also a lesser probability."
   ]
  },
  {
   "cell_type": "markdown",
   "metadata": {},
   "source": [
    "# Game 24 Exercise"
   ]
  },
  {
   "cell_type": "markdown",
   "metadata": {},
   "source": [
    "## List all the possible ways to group the four numbers."
   ]
  },
  {
   "cell_type": "markdown",
   "metadata": {},
   "source": [
    "- Example 1: ((a op b) op c) op d\n",
    "- Example 2: (a op (b op c)) op d\n",
    "- Example 3: a op ((b op c) op d)\n",
    "- Example 4: a op (b op (c op d))\n",
    "- Example 5: (a op b) op (c op d)"
   ]
  },
  {
   "cell_type": "markdown",
   "metadata": {},
   "source": [
    "- Sample 1: ((2 - 8) / 4) + 3\n",
    "- Sample 2: (9 + (3 - 1)) / 8\n",
    "- Sample 3: 10 / ((7 * 1) - 3)\n",
    "- Sample 4: 3 * (9 - (6 - 2))\n",
    "- Sample 5: (10 - 5) * (7 - 2)"
   ]
  },
  {
   "cell_type": "markdown",
   "metadata": {},
   "source": [
    "## How many possible ways are there to check for a solution?"
   ]
  },
  {
   "cell_type": "markdown",
   "metadata": {},
   "source": [
    "To check for solutions, we start with the number of permutations. As you can only use the number once, so theres 4!. Now, we determine the number of operators. As there are 4 numbers, 3 operators are needed. So its 4^3. Then, handle the groupings. We know there are 5 groupings from aboeve."
   ]
  },
  {
   "cell_type": "code",
   "execution_count": 44,
   "metadata": {},
   "outputs": [],
   "source": [
    "import math\n",
    "\n",
    "def poss_solutions():\n",
    "    permutations = math.factorial(4)\n",
    "    operators = 4 ** 3\n",
    "    groupings = 5\n",
    "    return permutations * operators * groupings"
   ]
  },
  {
   "cell_type": "code",
   "execution_count": 45,
   "metadata": {},
   "outputs": [
    {
     "name": "stdout",
     "output_type": "stream",
     "text": [
      "The number of solutions are: 7680\n"
     ]
    }
   ],
   "source": [
    "print(f\"The number of solutions are: {poss_solutions()}\")"
   ]
  },
  {
   "cell_type": "markdown",
   "metadata": {},
   "source": [
    "## Write a function to solve the problem in a brutal force way. The inputs of the function are four numbers. The function returns a list of solutions. Some of the solutions will be equivalent, but let us not worry about that for now."
   ]
  },
  {
   "cell_type": "code",
   "execution_count": 94,
   "metadata": {},
   "outputs": [
    {
     "ename": "SyntaxError",
     "evalue": "expected ':' (3738207510.py, line 35)",
     "output_type": "error",
     "traceback": [
      "  \u001b[36mCell\u001b[39m\u001b[36m \u001b[39m\u001b[32mIn[94]\u001b[39m\u001b[32m, line 35\u001b[39m\n\u001b[31m    \u001b[39m\u001b[31mif solutions == []\u001b[39m\n                      ^\n\u001b[31mSyntaxError\u001b[39m\u001b[31m:\u001b[39m expected ':'\n"
     ]
    }
   ],
   "source": [
    "from itertools import permutations, product\n",
    "\n",
    "def list_groupings():\n",
    "    return [\n",
    "        \"(({} {} {}) {} {}) {} {}\",\n",
    "        \"({} {} ({} {} {})) {} {}\", \n",
    "        \"{} {} (({} {} {}) {} {})\",   \n",
    "        \"{} {} ({} {} ({} {} {}))\", \n",
    "        \"(({} {} {}) {} ({} {} {}))\" \n",
    "    ]\n",
    "\n",
    "def game24(nums):\n",
    "    ops = ['+', '-', '*', '/']\n",
    "    templates = list_groupings()\n",
    "    solutions = []\n",
    "    tol = 1e-16\n",
    "\n",
    "    # This sets up all permutations of the numbers in nums\n",
    "    for a, b, c, d in permutations(nums):\n",
    "        # Generates all the combinations of possible operators\n",
    "        for op1, op2, op3 in product(ops, repeat=3):\n",
    "            # This groups the template with the numbers and operators \n",
    "            for T in templates:\n",
    "                # Now format it intot he correct order of nums/ops\n",
    "                expr = T.format(a, op1, b, op2, c, op3, d)\n",
    "                try:\n",
    "                    # Checking if it equals 24\n",
    "                    if abs(eval(expr) - 24) < tol: \n",
    "                        solutions.append(expr)\n",
    "                except ZeroDivisionError:\n",
    "                    # If divides by 0, automatically skips.\n",
    "                    pass\n",
    "    \n",
    "    \n",
    "    return sorted(set(solutions))"
   ]
  },
  {
   "cell_type": "markdown",
   "metadata": {},
   "source": [
    "## Test your function with (1,3,9,10), (4,4,10,10), (1,5,5,5), (3,3,7,7), (3,3,8,8), and (1, 4, 5, 6)."
   ]
  },
  {
   "cell_type": "code",
   "execution_count": 92,
   "metadata": {},
   "outputs": [
    {
     "name": "stdout",
     "output_type": "stream",
     "text": [
      "The following combinations of 1,3,9,10 are:\n"
     ]
    },
    {
     "data": {
      "text/plain": [
       "['((1 + 10) * 3) - 9',\n",
       " '((10 + 1) * 3) - 9',\n",
       " '(3 * (1 + 10)) - 9',\n",
       " '(3 * (10 + 1)) - 9']"
      ]
     },
     "execution_count": 92,
     "metadata": {},
     "output_type": "execute_result"
    }
   ],
   "source": [
    "print(\"The following combinations of 1,3,9,10 are:\")\n",
    "game24([1,3,9,10])"
   ]
  },
  {
   "cell_type": "code",
   "execution_count": 93,
   "metadata": {},
   "outputs": [
    {
     "name": "stdout",
     "output_type": "stream",
     "text": [
      "The following combinations of 4,4,10,10 are:\n"
     ]
    },
    {
     "data": {
      "text/plain": [
       "['((10 * 10) - 4) / 4']"
      ]
     },
     "execution_count": 93,
     "metadata": {},
     "output_type": "execute_result"
    }
   ],
   "source": [
    "print(\"The following combinations of 4,4,10,10 are:\")\n",
    "game24([4,4,10,10])"
   ]
  },
  {
   "cell_type": "code",
   "execution_count": 87,
   "metadata": {},
   "outputs": [
    {
     "data": {
      "text/plain": [
       "['(5 - (1 / 5)) * 5', '5 * (5 - (1 / 5))']"
      ]
     },
     "execution_count": 87,
     "metadata": {},
     "output_type": "execute_result"
    }
   ],
   "source": [
    "game24([1,5,5,5])"
   ]
  },
  {
   "cell_type": "code",
   "execution_count": 88,
   "metadata": {},
   "outputs": [
    {
     "data": {
      "text/plain": [
       "['((3 / 7) + 3) * 7',\n",
       " '(3 + (3 / 7)) * 7',\n",
       " '7 * ((3 / 7) + 3)',\n",
       " '7 * (3 + (3 / 7))']"
      ]
     },
     "execution_count": 88,
     "metadata": {},
     "output_type": "execute_result"
    }
   ],
   "source": [
    "game24([3,3,7,7])"
   ]
  },
  {
   "cell_type": "code",
   "execution_count": 89,
   "metadata": {},
   "outputs": [
    {
     "data": {
      "text/plain": [
       "[]"
      ]
     },
     "execution_count": 89,
     "metadata": {},
     "output_type": "execute_result"
    }
   ],
   "source": [
    "game24([3,3,8,8])"
   ]
  },
  {
   "cell_type": "code",
   "execution_count": 90,
   "metadata": {},
   "outputs": [
    {
     "data": {
      "text/plain": [
       "['6 / ((5 / 4) - 1)']"
      ]
     },
     "execution_count": 90,
     "metadata": {},
     "output_type": "execute_result"
    }
   ],
   "source": [
    "game24([1,4,5,6])"
   ]
  },
  {
   "cell_type": "code",
   "execution_count": null,
   "metadata": {},
   "outputs": [],
   "source": []
  }
 ],
 "metadata": {
  "kernelspec": {
   "display_name": "Python 3 (ipykernel)",
   "language": "python",
   "name": "python3"
  },
  "language_info": {
   "codemirror_mode": {
    "name": "ipython",
    "version": 3
   },
   "file_extension": ".py",
   "mimetype": "text/x-python",
   "name": "python",
   "nbconvert_exporter": "python",
   "pygments_lexer": "ipython3",
   "version": "3.11.13"
  }
 },
 "nbformat": 4,
 "nbformat_minor": 4
}
