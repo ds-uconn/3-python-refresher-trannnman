{
 "cells": [
  {
   "cell_type": "markdown",
   "metadata": {},
   "source": [
    "---\n",
    "title: \"Homework Assignment 2\"\n",
    "author: \"Justin Tran\"\n",
    "toc: true\n",
    "number-sections: true\n",
    "highlight-style: pygments\n",
    "format: \n",
    "  html: \n",
    "    code-fold: true\n",
    "    html-math-method: katex\n",
    "    embed-resources: true\n",
    "    self-contained-math: true\t\n",
    "  pdf: \n",
    "    geometry: \n",
    "      - top=30mm\n",
    "      - left=20mm\n",
    "##  docx: Never, unless to accommodate a collaborator\n",
    "---\n"
   ]
  },
  {
   "cell_type": "markdown",
   "metadata": {},
   "source": [
    "# Monty Hall Exercise"
   ]
  },
  {
   "cell_type": "markdown",
   "metadata": {},
   "source": [
    "## Write a function to simulate the experiment once. \n",
    "\n",
    "### The function takes two arguments ndoors and nempty, which represent the number of doors and the number of empty doors showed by the host, respectively, It returns the result of two strategies, switch and no-switch, from playing this game."
   ]
  },
  {
   "cell_type": "code",
   "execution_count": 3,
   "metadata": {},
   "outputs": [],
   "source": [
    "import random\n",
    "\n",
    "def simulate_montyhall (ndoors, nempty):\n",
    "    \"\"\"\n",
    "    ndoors = number of total doors\n",
    "    nempty = number of empty doors the host opens\n",
    "    Returns a tuple: (initial_win, switch_win)\n",
    "    \"\"\"\n",
    "\n",
    "    # This sets the doors with 1 prize and rest are empty\n",
    "    doors = ['prize'] + ['empty'] * (ndoors-1)\n",
    "    random.shuffle(doors)\n",
    "\n",
    "    # This is where a player picks a random door\n",
    "    pick = random.randint (0, ndoors -1)\n",
    "    \n",
    "    # This is where host opens \"nempty\" empty doors.\n",
    "    empty_doors = [i for i in range(ndoors) if doors[i] == \"empty\" and i!= pick]\n",
    "    opened_doors = random.sample(empty_doors, nempty)\n",
    "\n",
    "    # The remaining number of unopened doors.\n",
    "    remaining_doors = [i for i in range(ndoors) if i not in opened_doors and i != pick]\n",
    "\n",
    "    # No switching: Checking if prize is in initial door\n",
    "    initial_win = (doors[pick] == \"prize\")\n",
    "\n",
    "    #Switching: Checking if prize is in switched door.\n",
    "    switched_pick = random.choice(remaining_doors)\n",
    "    switch_win = (doors[switched_pick] == \"prize\")\n",
    "\n",
    "    return initial_win, switch_win"
   ]
  },
  {
   "cell_type": "markdown",
   "metadata": {},
   "source": [
    "## Play this game with 3 doors and 1 empty a few times."
   ]
  },
  {
   "cell_type": "code",
   "execution_count": null,
   "metadata": {},
   "outputs": [],
   "source": []
  },
  {
   "cell_type": "markdown",
   "metadata": {},
   "source": [
    "## Play this game with 10 doors and 8 empty a few times."
   ]
  },
  {
   "cell_type": "code",
   "execution_count": null,
   "metadata": {},
   "outputs": [],
   "source": []
  },
  {
   "cell_type": "markdown",
   "metadata": {},
   "source": [
    "## Write a function to demonstrate the Monty Hall problem through simulation. The function takes three arguments ndoors, nempty, and ntrials, where ntrial is the number of trials in a simulation. The function should return the proportion of wins for both the switch and no-switch strategy."
   ]
  },
  {
   "cell_type": "code",
   "execution_count": null,
   "metadata": {},
   "outputs": [],
   "source": []
  },
  {
   "cell_type": "markdown",
   "metadata": {},
   "source": [
    "## Apply your function with 3 doors (1 empty) and 10 doors (8 empty), both with 1000 trials. Summarize your results."
   ]
  },
  {
   "cell_type": "code",
   "execution_count": null,
   "metadata": {},
   "outputs": [],
   "source": []
  },
  {
   "cell_type": "markdown",
   "metadata": {},
   "source": [
    "## Explain in words which strategy is preferred. Use analytic results to help if you could derive them."
   ]
  },
  {
   "cell_type": "code",
   "execution_count": null,
   "metadata": {},
   "outputs": [],
   "source": []
  },
  {
   "cell_type": "markdown",
   "metadata": {},
   "source": [
    "# Game 24 Exercise"
   ]
  },
  {
   "cell_type": "markdown",
   "metadata": {},
   "source": [
    "## List all the possible ways to group the four numbers."
   ]
  },
  {
   "cell_type": "code",
   "execution_count": null,
   "metadata": {},
   "outputs": [],
   "source": []
  },
  {
   "cell_type": "markdown",
   "metadata": {},
   "source": [
    "## How many possible ways are there to check for a solution?"
   ]
  },
  {
   "cell_type": "code",
   "execution_count": null,
   "metadata": {},
   "outputs": [],
   "source": []
  },
  {
   "cell_type": "markdown",
   "metadata": {},
   "source": [
    "## Write a function to solve the problem in a brutal force way. The inputs of the function are four numbers. The function returns a list of solutions. Some of the solutions will be equivalent, but let us not worry about that for now."
   ]
  },
  {
   "cell_type": "code",
   "execution_count": null,
   "metadata": {},
   "outputs": [],
   "source": []
  },
  {
   "cell_type": "markdown",
   "metadata": {},
   "source": [
    "## Test your function with (1,3,9,19), (4,4,10,10), (1,5,5,5), (3,3,7,7), (3,3,8,8), and (1, 4, 5, 6)."
   ]
  },
  {
   "cell_type": "code",
   "execution_count": null,
   "metadata": {},
   "outputs": [],
   "source": []
  }
 ],
 "metadata": {
  "kernelspec": {
   "display_name": "Python 3 (ipykernel)",
   "language": "python",
   "name": "python3"
  },
  "language_info": {
   "codemirror_mode": {
    "name": "ipython",
    "version": 3
   },
   "file_extension": ".py",
   "mimetype": "text/x-python",
   "name": "python",
   "nbconvert_exporter": "python",
   "pygments_lexer": "ipython3",
   "version": "3.11.13"
  }
 },
 "nbformat": 4,
 "nbformat_minor": 4
}
